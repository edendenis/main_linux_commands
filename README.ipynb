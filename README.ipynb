{
 "cells": [
  {
   "cell_type": "markdown",
   "metadata": {},
   "source": [
    "# Como configurar/instalar/usar o `Linux Cheat Sheet` no `Linux Ubuntu`\n",
    "\n",
    "## Resumo\n",
    "\n",
    "Neste documento estão contidos os principais comandos e configurações para configurar/instalar/usar o `Linux Cheat Sheet` no `Linux Ubuntu`.\n",
    "\n",
    "## _Abstract_\n",
    "\n",
    "_This document contains the main commands and settings for configuring/installing/using the `Linux Cheat Sheet` on `Linux Ubuntu`._\n"
   ]
  },
  {
   "cell_type": "markdown",
   "metadata": {},
   "source": [
    "## Descrição [2]\n",
    "\n",
    "### `Linux Cheat Sheet`\n",
    "\n",
    "O \"Linux Cheat Sheet\" é um recurso prático e conciso que oferece uma rápida referência aos comandos e atalhos mais comuns do sistema operacional Linux. Organizado de forma clara e acessível, geralmente em formato de tabela ou lista, este documento é amplamente utilizado por administradores de sistemas, desenvolvedores e usuários do Linux para agilizar tarefas, solucionar problemas e melhorar a eficiência na linha de comando.\n"
   ]
  },
  {
   "cell_type": "markdown",
   "metadata": {},
   "source": [
    "## 1. Como configurar/instalar/usar o `Linux Cheat Sheet` no `Linux Ubuntu` [1][3]\n",
    "\n",
    "Para configurar/instalar/usar o `Linux Cheat Sheet` no `Linux Ubuntu`, você pode seguir estes passos:\n",
    "\n",
    "1. Abra o `Terminal Emulator`. Você pode fazer isso pressionando: `Ctrl + Alt + T`"
   ]
  },
  {
   "cell_type": "markdown",
   "metadata": {},
   "source": [
    "2. Certifique-se de que seu sistema esteja limpo e atualizado.\n",
    "\n",
    "    2.1 Limpar o `cache` do gerenciador de pacotes APT. Especificamente, ele remove todos os arquivos de pacotes (`.deb`) baixados pelo APT e armazenados em `/var/cache/apt/archives/`. Digite o seguinte comando: `sudo apt clean` \n",
    "    \n",
    "    2.2 Remover pacotes `.deb` antigos ou duplicados do cache local. É útil para liberar espaço, pois remove apenas os pacotes que não podem mais ser baixados (ou seja, versões antigas de pacotes que foram atualizados). Digite o seguinte comando: `sudo apt autoclean`\n",
    "\n",
    "    2.3 Remover pacotes que foram automaticamente instalados para satisfazer as dependências de outros pacotes e que não são mais necessários. Digite o seguinte comando: `sudo apt autoremove -y`\n",
    "\n",
    "    2.4 Buscar as atualizações disponíveis para os pacotes que estão instalados em seu sistema. Digite o seguinte comando e pressione `Enter`: `sudo apt update -y`\n",
    "\n",
    "    2.5 Para ver a lista de pacotes a serem atualizados, digite o seguinte comando e pressione `Enter`:  `sudo apt list --upgradable`\n",
    "\n",
    "    2.6 Realmente atualizar os pacotes instalados para as suas versões mais recentes, com base na última vez que você executou `sudo apt update -y`. Digite o seguinte comando e pressione `Enter`: `sudo apt full-upgrade -y`\n",
    "\n",
    "    2.7 Remover pacotes que foram automaticamente instalados para satisfazer as dependências de outros pacotes e que não são mais necessários. Digite o seguinte comando: `sudo apt autoremove -y`\n",
    "\n",
    "    2.8 Remover pacotes `.deb` antigos ou duplicados do cache local. É útil para liberar espaço, pois remove apenas os pacotes que não podem mais ser baixados (ou seja, versões antigas de pacotes que foram atualizados). Digite o seguinte comando: `sudo apt autoclean`"
   ]
  },
  {
   "cell_type": "markdown",
   "metadata": {},
   "source": [
    "| Comando   | Descrição                                                    |\n",
    "|:---------:|:-------------------------------------------------------------|\n",
    "| `cd`      | Alterar diretório                                            |\n",
    "| `rmdir`   | Remover um diretório vazio                                   |\n",
    "| `tail`    | Exibir as últimas linhas de um arquivo                       |\n",
    "| `chmod`   | Alterar permissões de arquivos e diretórios                  |\n",
    "| `umount`  | Desmontar um sistema de arquivos                             |\n",
    "| `ls`      | Listar conteúdo do diretório                                 |\n",
    "| `cut`     | Recortar seções de um arquivo                                |\n",
    "| `sort`    | Ordenar linhas de um arquivo                                 |\n",
    "| `chown`   | Alterar o proprietário de um arquivo ou diretório            |\n",
    "| `ping`    | Testar conectividade com um host de rede                     |\n",
    "| `pwd`     | Imprimir diretório de trabalho                               |\n",
    "| `gzip`    | Comprimir ou descomprimir arquivos usando gzip               |\n",
    "| `uniq`    | Remover linhas duplicadas                                    |\n",
    "| `chgrp`   | Alterar o grupo de propriedade de um arquivo ou diretório    |\n",
    "| `ssh`     | Conexão remota segura e execução de comando                  |\n",
    "| `cat`     | Concatenar e exibir arquivos                                 |\n",
    "| `gunzip`  | Descomprimir arquivos comprimidos com gzip                   |\n",
    "| `ps`      | Listar processos em execução                                 |\n",
    "| `scp`     | Copiar arquivos de forma segura entre hosts                  |\n",
    "| `rsync`   | Sincronização remota de arquivos e diretórios                |\n",
    "| `touch`   | Criar um arquivo vazio                                       |\n",
    "| `find`    | Encontrar arquivos e diretórios que correspondam a um padrão |\n",
    "| `grep`    | Buscar por um padrão em um arquivo                           |\n",
    "| `top`     | Exibir informações de uso do sistema e processos             |\n",
    "| `kill`    | Enviar um sinal para terminar um processo                    |\n",
    "| `cp`      | Copiar arquivos e diretórios                                 |\n",
    "| `awk`     | Análise e processamento de padrões                           |\n",
    "| `wc`      | Contar linhas, palavras e caracteres em um arquivo           |\n",
    "| `du`      | Exibir uso de disco de arquivos e diretórios                 |\n",
    "| `wget`    | Recuperar arquivos da internet usando protocolos de rede     |\n",
    "| `mv`      | Mover ou renomear arquivos e diretórios                      |\n",
    "| `sed`     | Editor de fluxo para filtrar e transformar texto             |\n",
    "| `diff`    | Comparar dois arquivos linha por linha                       |\n",
    "| `df`      | Exibir espaço livre em disco no sistema de arquivos          |\n",
    "| `ftp`     | Cliente de Protocolo de Transferência de Arquivos            |\n",
    "| `rm`      | Remover arquivos e diretórios                                |\n",
    "| `head`    | Exibir as primeiras linhas de um arquivo                     |\n",
    "| `patch`   | Aplicar um patch a um arquivo                                |\n",
    "| `mount`   | Montar um sistema de arquivos                                |\n",
    "| `sftp`    | Cliente de Protocolo de Transferência de Arquivos Seguro     |\n"
   ]
  },
  {
   "cell_type": "markdown",
   "metadata": {
    "vscode": {
     "languageId": "plaintext"
    }
   },
   "source": [
    "### 1.1 Código completo para configurar/instalar/usar\n",
    "\n",
    "Para configurar/instalar/usar o `Linux Cheat Sheet` no `Linux Ubuntu` sem precisar digitar linha por linha, você pode seguir estas etapas:\n",
    "\n",
    "1. Abra o terminal. Você pode fazer isso pressionando: `Ctrl + Alt + T`\n",
    "\n",
    "2. Digite o seguinte comando e pressione `Enter`:\n",
    "\n",
    "    ```\n",
    "    NÃO há.\n",
    "    ```\n"
   ]
  },
  {
   "cell_type": "markdown",
   "metadata": {
    "vscode": {
     "languageId": "plaintext"
    }
   },
   "source": [
    "## Referências\n",
    "\n",
    "[1] OPENAI. ***Comandos Linux traduzidos.*** Disponível em: <https://chat.openai.com/c/b315251f-5bf4-48bb-8c0b-d306db412439> (texto adaptado). Acessado em: 02/04/2023 17:11.\n",
    "\n",
    "[2] OPENAI. ***Vs code: editor popular.*** Disponível em: <https://chat.openai.com/c/b640a25d-f8e3-4922-8a3b-ed74a2657e42> (texto adaptado). Acessado em: 02/04/2024 17:10.\n"
   ]
  }
 ],
 "metadata": {
  "kernelspec": {
   "display_name": "Python 3",
   "language": "python",
   "name": "python3"
  },
  "language_info": {
   "codemirror_mode": {
    "name": "ipython",
    "version": 3
   },
   "file_extension": ".py",
   "mimetype": "text/x-python",
   "name": "python",
   "nbconvert_exporter": "python",
   "pygments_lexer": "ipython3",
   "version": "3.11.8"
  },
  "orig_nbformat": 4
 },
 "nbformat": 4,
 "nbformat_minor": 2
}
